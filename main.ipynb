{
 "cells": [
  {
   "cell_type": "code",
   "execution_count": 9,
   "metadata": {},
   "outputs": [],
   "source": [
    "OPENAI_API_KEY= \"\""
   ]
  },
  {
   "cell_type": "code",
   "execution_count": 12,
   "metadata": {},
   "outputs": [],
   "source": [
    "from langchain import OpenAI\n",
    "from langchain.chains import VectorDBQAWithSourcesChain\n",
    "from langchain.document_loaders import Docx2txtLoader\n"
   ]
  },
  {
   "cell_type": "code",
   "execution_count": 13,
   "metadata": {},
   "outputs": [
    {
     "ename": "PermissionError",
     "evalue": "[Errno 13] Permission denied: 'C:\\\\Users\\\\qianwens\\\\AppData\\\\Local\\\\Temp\\\\tmpzh3kzh6c'",
     "output_type": "error",
     "traceback": [
      "\u001b[1;31m---------------------------------------------------------------------------\u001b[0m",
      "\u001b[1;31mPermissionError\u001b[0m                           Traceback (most recent call last)",
      "Cell \u001b[1;32mIn[13], line 2\u001b[0m\n\u001b[0;32m      1\u001b[0m loader \u001b[39m=\u001b[39m Docx2txtLoader(\u001b[39m\"\u001b[39m\u001b[39mhttps://qianwentest.blob.core.windows.net/test/Live\u001b[39m\u001b[39m%\u001b[39m\u001b[39m20Site.doc\u001b[39m\u001b[39m\"\u001b[39m)\n\u001b[1;32m----> 2\u001b[0m data \u001b[39m=\u001b[39m loader\u001b[39m.\u001b[39;49mload()\n\u001b[0;32m      3\u001b[0m data\n",
      "File \u001b[1;32mc:\\Users\\qianwens\\AppData\\Local\\Programs\\Python\\Python38-32\\lib\\site-packages\\langchain\\document_loaders\\word_document.py:55\u001b[0m, in \u001b[0;36mDocx2txtLoader.load\u001b[1;34m(self)\u001b[0m\n\u001b[0;32m     50\u001b[0m \u001b[39m\"\"\"Load given path as single page.\"\"\"\u001b[39m\n\u001b[0;32m     51\u001b[0m \u001b[39mimport\u001b[39;00m \u001b[39mdocx2txt\u001b[39;00m\n\u001b[0;32m     53\u001b[0m \u001b[39mreturn\u001b[39;00m [\n\u001b[0;32m     54\u001b[0m     Document(\n\u001b[1;32m---> 55\u001b[0m         page_content\u001b[39m=\u001b[39mdocx2txt\u001b[39m.\u001b[39;49mprocess(\u001b[39mself\u001b[39;49m\u001b[39m.\u001b[39;49mfile_path),\n\u001b[0;32m     56\u001b[0m         metadata\u001b[39m=\u001b[39m{\u001b[39m\"\u001b[39m\u001b[39msource\u001b[39m\u001b[39m\"\u001b[39m: \u001b[39mself\u001b[39m\u001b[39m.\u001b[39mfile_path},\n\u001b[0;32m     57\u001b[0m     )\n\u001b[0;32m     58\u001b[0m ]\n",
      "File \u001b[1;32mc:\\Users\\qianwens\\AppData\\Local\\Programs\\Python\\Python38-32\\lib\\site-packages\\docx2txt\\docx2txt.py:76\u001b[0m, in \u001b[0;36mprocess\u001b[1;34m(docx, img_dir)\u001b[0m\n\u001b[0;32m     73\u001b[0m text \u001b[39m=\u001b[39m \u001b[39mu\u001b[39m\u001b[39m'\u001b[39m\u001b[39m'\u001b[39m\n\u001b[0;32m     75\u001b[0m \u001b[39m# unzip the docx in memory\u001b[39m\n\u001b[1;32m---> 76\u001b[0m zipf \u001b[39m=\u001b[39m zipfile\u001b[39m.\u001b[39;49mZipFile(docx)\n\u001b[0;32m     77\u001b[0m filelist \u001b[39m=\u001b[39m zipf\u001b[39m.\u001b[39mnamelist()\n\u001b[0;32m     79\u001b[0m \u001b[39m# get header text\u001b[39m\n\u001b[0;32m     80\u001b[0m \u001b[39m# there can be 3 header files in the zip\u001b[39m\n",
      "File \u001b[1;32mc:\\Users\\qianwens\\AppData\\Local\\Programs\\Python\\Python38-32\\lib\\zipfile.py:1250\u001b[0m, in \u001b[0;36mZipFile.__init__\u001b[1;34m(self, file, mode, compression, allowZip64, compresslevel, strict_timestamps)\u001b[0m\n\u001b[0;32m   1248\u001b[0m \u001b[39mwhile\u001b[39;00m \u001b[39mTrue\u001b[39;00m:\n\u001b[0;32m   1249\u001b[0m     \u001b[39mtry\u001b[39;00m:\n\u001b[1;32m-> 1250\u001b[0m         \u001b[39mself\u001b[39m\u001b[39m.\u001b[39mfp \u001b[39m=\u001b[39m io\u001b[39m.\u001b[39;49mopen(file, filemode)\n\u001b[0;32m   1251\u001b[0m     \u001b[39mexcept\u001b[39;00m \u001b[39mOSError\u001b[39;00m:\n\u001b[0;32m   1252\u001b[0m         \u001b[39mif\u001b[39;00m filemode \u001b[39min\u001b[39;00m modeDict:\n",
      "\u001b[1;31mPermissionError\u001b[0m: [Errno 13] Permission denied: 'C:\\\\Users\\\\qianwens\\\\AppData\\\\Local\\\\Temp\\\\tmpzh3kzh6c'"
     ]
    }
   ],
   "source": [
    "loader = Docx2txtLoader(\"https://qianwentest.blob.core.windows.net/test/Live%20Site.doc\")\n",
    "data = loader.load()\n",
    "data"
   ]
  }
 ],
 "metadata": {
  "kernelspec": {
   "display_name": "Python 3",
   "language": "python",
   "name": "python3"
  },
  "language_info": {
   "codemirror_mode": {
    "name": "ipython",
    "version": 3
   },
   "file_extension": ".py",
   "mimetype": "text/x-python",
   "name": "python",
   "nbconvert_exporter": "python",
   "pygments_lexer": "ipython3",
   "version": "3.8.3"
  },
  "orig_nbformat": 4
 },
 "nbformat": 4,
 "nbformat_minor": 2
}
